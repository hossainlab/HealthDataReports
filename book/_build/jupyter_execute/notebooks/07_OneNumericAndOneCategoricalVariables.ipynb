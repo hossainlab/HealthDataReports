{
 "cells": [
  {
   "cell_type": "markdown",
   "id": "7c1f6c00-dee6-43ab-9c36-682d39ce6e34",
   "metadata": {},
   "source": [
    "# One Numeric and One Categorical Variables"
   ]
  },
  {
   "cell_type": "markdown",
   "id": "4db34b4c-2864-4518-9228-a342f4f79c59",
   "metadata": {},
   "source": [
    "In preparation ..."
   ]
  }
 ],
 "metadata": {
  "kernelspec": {
   "display_name": "Python 3 (ipykernel)",
   "language": "python",
   "name": "python3"
  },
  "language_info": {
   "codemirror_mode": {
    "name": "ipython",
    "version": 3
   },
   "file_extension": ".py",
   "mimetype": "text/x-python",
   "name": "python",
   "nbconvert_exporter": "python",
   "pygments_lexer": "ipython3",
   "version": "3.8.11"
  }
 },
 "nbformat": 4,
 "nbformat_minor": 5
}
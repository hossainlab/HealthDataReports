{
 "cells": [
  {
   "cell_type": "markdown",
   "id": "87b9dbaa-248e-4db1-9c04-87bc6894af99",
   "metadata": {},
   "source": [
    "# Several Numeric Variables "
   ]
  },
  {
   "cell_type": "markdown",
   "id": "b1d0cf24-063a-4522-8847-469173bbc165",
   "metadata": {},
   "source": [
    "In Preparation .."
   ]
  }
 ],
 "metadata": {
  "kernelspec": {
   "display_name": "Python 3 (ipykernel)",
   "language": "python",
   "name": "python3"
  },
  "language_info": {
   "codemirror_mode": {
    "name": "ipython",
    "version": 3
   },
   "file_extension": ".py",
   "mimetype": "text/x-python",
   "name": "python",
   "nbconvert_exporter": "python",
   "pygments_lexer": "ipython3",
   "version": "3.8.11"
  }
 },
 "nbformat": 4,
 "nbformat_minor": 5
}
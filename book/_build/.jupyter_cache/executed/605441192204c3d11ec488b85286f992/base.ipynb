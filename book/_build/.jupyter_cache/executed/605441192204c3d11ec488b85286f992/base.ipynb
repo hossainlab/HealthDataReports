{
 "cells": [
  {
   "cell_type": "code",
   "execution_count": null,
   "id": "e1d3a6d3-27ff-47cd-acf4-b25ac9172571",
   "metadata": {},
   "outputs": [],
   "source": [
    " "
   ]
  }
 ],
 "metadata": {
  "kernelspec": {
   "display_name": "Python 3 (ipykernel)",
   "language": "python",
   "name": "python3"
  },
  "language_info": {
   "codemirror_mode": {
    "name": "ipython",
    "version": 3
   },
   "file_extension": ".py",
   "mimetype": "text/x-python",
   "name": "python",
   "nbconvert_exporter": "python",
   "pygments_lexer": "ipython3",
   "version": "3.8.11"
  }
 },
 "nbformat": 4,
 "nbformat_minor": 5
}
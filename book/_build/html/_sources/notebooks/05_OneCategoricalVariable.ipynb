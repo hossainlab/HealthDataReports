{
 "cells": [
  {
   "cell_type": "markdown",
   "id": "032d1d16-43fc-4e76-a21c-9642560c83d7",
   "metadata": {},
   "source": [
    "# One Categorica lVariable"
   ]
  },
  {
   "cell_type": "markdown",
   "id": "e3390737-5218-4dfe-9c49-d5762bc47624",
   "metadata": {},
   "source": [
    "In Preparation ..."
   ]
  }
 ],
 "metadata": {
  "kernelspec": {
   "display_name": "Python 3 (ipykernel)",
   "language": "python",
   "name": "python3"
  },
  "language_info": {
   "codemirror_mode": {
    "name": "ipython",
    "version": 3
   },
   "file_extension": ".py",
   "mimetype": "text/x-python",
   "name": "python",
   "nbconvert_exporter": "python",
   "pygments_lexer": "ipython3",
   "version": "3.8.8"
  }
 },
 "nbformat": 4,
 "nbformat_minor": 5
}

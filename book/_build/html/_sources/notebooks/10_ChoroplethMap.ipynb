{
 "cells": [
  {
   "cell_type": "markdown",
   "id": "0c642704-5d77-4cb7-b61d-c10760495353",
   "metadata": {},
   "source": [
    "# Choropleth Map"
   ]
  },
  {
   "cell_type": "markdown",
   "id": "1fdafd88-8c96-4fbb-af2f-a7b1756bda64",
   "metadata": {},
   "source": [
    "In Preparation .."
   ]
  }
 ],
 "metadata": {
  "kernelspec": {
   "display_name": "Python 3 (ipykernel)",
   "language": "python",
   "name": "python3"
  },
  "language_info": {
   "codemirror_mode": {
    "name": "ipython",
    "version": 3
   },
   "file_extension": ".py",
   "mimetype": "text/x-python",
   "name": "python",
   "nbconvert_exporter": "python",
   "pygments_lexer": "ipython3",
   "version": "3.8.8"
  }
 },
 "nbformat": 4,
 "nbformat_minor": 5
}

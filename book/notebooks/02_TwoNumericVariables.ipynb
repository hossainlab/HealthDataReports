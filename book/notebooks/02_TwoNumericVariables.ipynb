{
 "cells": [
  {
   "cell_type": "markdown",
   "id": "4cd1b981-2e95-41c6-aa8b-1c8da172b92e",
   "metadata": {},
   "source": [
    "# Two Numeric Variables "
   ]
  },
  {
   "cell_type": "markdown",
   "id": "6d7c3cb2-8b00-470e-a148-e3194f61d514",
   "metadata": {},
   "source": [
    "In Preparation ..."
   ]
  }
 ],
 "metadata": {
  "kernelspec": {
   "display_name": "Python 3 (ipykernel)",
   "language": "python",
   "name": "python3"
  },
  "language_info": {
   "codemirror_mode": {
    "name": "ipython",
    "version": 3
   },
   "file_extension": ".py",
   "mimetype": "text/x-python",
   "name": "python",
   "nbconvert_exporter": "python",
   "pygments_lexer": "ipython3",
   "version": "3.8.8"
  }
 },
 "nbformat": 4,
 "nbformat_minor": 5
}

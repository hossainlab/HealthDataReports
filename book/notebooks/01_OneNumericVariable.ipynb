{
 "cells": [
  {
   "cell_type": "markdown",
   "id": "8c6982e2-bc7c-45f8-a30a-332160b4c750",
   "metadata": {},
   "source": [
    "# One Numeric Variable "
   ]
  },
  {
   "cell_type": "markdown",
   "id": "54b6a2bd-5446-4bda-b6c5-ed79d270268d",
   "metadata": {},
   "source": [
    "In Preparation...."
   ]
  }
 ],
 "metadata": {
  "kernelspec": {
   "display_name": "Python 3 (ipykernel)",
   "language": "python",
   "name": "python3"
  },
  "language_info": {
   "codemirror_mode": {
    "name": "ipython",
    "version": 3
   },
   "file_extension": ".py",
   "mimetype": "text/x-python",
   "name": "python",
   "nbconvert_exporter": "python",
   "pygments_lexer": "ipython3",
   "version": "3.8.8"
  }
 },
 "nbformat": 4,
 "nbformat_minor": 5
}

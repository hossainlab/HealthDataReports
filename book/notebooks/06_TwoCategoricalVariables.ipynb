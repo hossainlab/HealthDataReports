{
 "cells": [
  {
   "cell_type": "markdown",
   "id": "68c60523-37ac-40ce-a42c-cfd8fbd39f1a",
   "metadata": {},
   "source": [
    "# Two Categorical Variables"
   ]
  },
  {
   "cell_type": "markdown",
   "id": "b8c08707-8e8f-4e51-ad92-5da2c0c310f8",
   "metadata": {},
   "source": [
    "In Preparation ..."
   ]
  }
 ],
 "metadata": {
  "kernelspec": {
   "display_name": "Python 3 (ipykernel)",
   "language": "python",
   "name": "python3"
  },
  "language_info": {
   "codemirror_mode": {
    "name": "ipython",
    "version": 3
   },
   "file_extension": ".py",
   "mimetype": "text/x-python",
   "name": "python",
   "nbconvert_exporter": "python",
   "pygments_lexer": "ipython3",
   "version": "3.8.8"
  }
 },
 "nbformat": 4,
 "nbformat_minor": 5
}

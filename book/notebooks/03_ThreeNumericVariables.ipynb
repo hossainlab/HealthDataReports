{
 "cells": [
  {
   "cell_type": "markdown",
   "id": "72ad36d2-ec70-4f4c-9e5e-a0fc04febbbe",
   "metadata": {},
   "source": [
    "# Three Numeric Variables"
   ]
  },
  {
   "cell_type": "markdown",
   "id": "461a87fe-a336-4081-a6c4-9f8c072655d5",
   "metadata": {},
   "source": [
    "In Preparation ..."
   ]
  }
 ],
 "metadata": {
  "kernelspec": {
   "display_name": "Python 3 (ipykernel)",
   "language": "python",
   "name": "python3"
  },
  "language_info": {
   "codemirror_mode": {
    "name": "ipython",
    "version": 3
   },
   "file_extension": ".py",
   "mimetype": "text/x-python",
   "name": "python",
   "nbconvert_exporter": "python",
   "pygments_lexer": "ipython3",
   "version": "3.8.8"
  }
 },
 "nbformat": 4,
 "nbformat_minor": 5
}

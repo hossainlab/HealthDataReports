{
 "cells": [
  {
   "cell_type": "markdown",
   "id": "623414ec-db5a-442f-b1cc-3d143ae92248",
   "metadata": {},
   "source": [
    "# One Categorical Variables Sevaral Numeric Variables"
   ]
  },
  {
   "cell_type": "markdown",
   "id": "2a4bcb29-d038-4559-9d3d-86adb3072f4a",
   "metadata": {},
   "source": [
    "In preparation ..."
   ]
  }
 ],
 "metadata": {
  "kernelspec": {
   "display_name": "Python 3 (ipykernel)",
   "language": "python",
   "name": "python3"
  },
  "language_info": {
   "codemirror_mode": {
    "name": "ipython",
    "version": 3
   },
   "file_extension": ".py",
   "mimetype": "text/x-python",
   "name": "python",
   "nbconvert_exporter": "python",
   "pygments_lexer": "ipython3",
   "version": "3.8.8"
  }
 },
 "nbformat": 4,
 "nbformat_minor": 5
}
